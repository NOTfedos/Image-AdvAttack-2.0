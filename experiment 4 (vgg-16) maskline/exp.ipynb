{
 "cells": [
  {
   "cell_type": "code",
   "execution_count": 1,
   "id": "initial_id",
   "metadata": {
    "ExecuteTime": {
     "end_time": "2024-12-23T14:00:56.000153Z",
     "start_time": "2024-12-23T14:00:32.944149500Z"
    }
   },
   "outputs": [
    {
     "name": "stderr",
     "output_type": "stream",
     "text": [
      "2024-12-23 17:21:47.392457: E external/local_xla/xla/stream_executor/cuda/cuda_fft.cc:485] Unable to register cuFFT factory: Attempting to register factory for plugin cuFFT when one has already been registered\n",
      "2024-12-23 17:21:47.482858: E external/local_xla/xla/stream_executor/cuda/cuda_dnn.cc:8463] Unable to register cuDNN factory: Attempting to register factory for plugin cuDNN when one has already been registered\n",
      "2024-12-23 17:21:47.508414: E external/local_xla/xla/stream_executor/cuda/cuda_blas.cc:1452] Unable to register cuBLAS factory: Attempting to register factory for plugin cuBLAS when one has already been registered\n"
     ]
    },
    {
     "name": "stdout",
     "output_type": "stream",
     "text": [
      "cuda:0\n"
     ]
    }
   ],
   "source": [
    "import json\n",
    "\n",
    "import numpy as np\n",
    "\n",
    "import torch\n",
    "import torch.nn as nn\n",
    "import torch.optim as optim\n",
    "from torchvision import models\n",
    "from torchvision.transforms import v2\n",
    "\n",
    "from torch.utils.tensorboard import SummaryWriter\n",
    "\n",
    "device = torch.device('cuda:0' if torch.cuda.is_available() else 'cpu')\n",
    "print(device)"
   ]
  },
  {
   "cell_type": "code",
   "execution_count": 4,
   "id": "3801fb14-5e14-4cbb-9908-58899f4918a8",
   "metadata": {},
   "outputs": [],
   "source": [
    "import sys\n",
    "sys.path.append(\"/home/user/Image-AdvAttack-2.0/\")"
   ]
  },
  {
   "cell_type": "code",
   "execution_count": 7,
   "id": "7393a8de4dd878e4",
   "metadata": {
    "ExecuteTime": {
     "end_time": "2024-12-23T14:01:03.345153Z",
     "start_time": "2024-12-23T14:01:02.703129900Z"
    },
    "collapsed": false,
    "jupyter": {
     "outputs_hidden": false
    }
   },
   "outputs": [],
   "source": [
    "import masks\n",
    "from exp_base import get_accuracy, train, plot_probs, init_image"
   ]
  },
  {
   "cell_type": "code",
   "execution_count": 6,
   "id": "d5bb52b9-3d30-4e67-96f6-ded2c7ce0c5f",
   "metadata": {},
   "outputs": [
    {
     "name": "stdout",
     "output_type": "stream",
     "text": [
      "Defaulting to user installation because normal site-packages is not writeable\n",
      "Collecting tqdm\n",
      "  Downloading tqdm-4.67.1-py3-none-any.whl (78 kB)\n",
      "\u001b[2K     \u001b[90m━━━━━━━━━━━━━━━━━━━━━━━━━━━━━━━━━━━━━━━━\u001b[0m \u001b[32m78.5/78.5 KB\u001b[0m \u001b[31m1.8 MB/s\u001b[0m eta \u001b[36m0:00:00\u001b[0ma \u001b[36m0:00:01\u001b[0m\n",
      "\u001b[?25hInstalling collected packages: tqdm\n",
      "\u001b[33m  WARNING: The script tqdm is installed in '/home/user/.local/bin' which is not on PATH.\n",
      "  Consider adding this directory to PATH or, if you prefer to suppress this warning, use --no-warn-script-location.\u001b[0m\u001b[33m\n",
      "\u001b[0mSuccessfully installed tqdm-4.67.1\n"
     ]
    }
   ],
   "source": [
    "!pip install tqdm"
   ]
  },
  {
   "cell_type": "code",
   "execution_count": 8,
   "id": "5906bb27b55ab1cc",
   "metadata": {
    "ExecuteTime": {
     "end_time": "2024-12-23T14:03:01.534824Z",
     "start_time": "2024-12-23T14:03:01.523732100Z"
    },
    "collapsed": false,
    "jupyter": {
     "outputs_hidden": false
    }
   },
   "outputs": [],
   "source": [
    "output = {\n",
    "    \"num_classes\": [],\n",
    "    \"acc\": [],\n",
    "    \"probs\": [],\n",
    "    \"epochs\": []\n",
    "}"
   ]
  },
  {
   "cell_type": "code",
   "execution_count": null,
   "id": "1bb68d2c0e77c303",
   "metadata": {
    "ExecuteTime": {
     "start_time": "2024-12-23T14:03:35.466441900Z"
    },
    "collapsed": false,
    "is_executing": true,
    "jupyter": {
     "outputs_hidden": false
    }
   },
   "outputs": [
    {
     "name": "stderr",
     "output_type": "stream",
     "text": [
      "Downloading: \"https://download.pytorch.org/models/vgg16-397923af.pth\" to /home/user/.cache/torch/hub/checkpoints/vgg16-397923af.pth\n",
      "100.0%\n"
     ]
    },
    {
     "name": "stdout",
     "output_type": "stream",
     "text": [
      "Running experiment 1\n",
      "---------- num_classes=2 ----------\n",
      "EPOCH = 0/5000 | loss = 26.660377502441406 | acc=0.0 | lr=0.1 | time=0:0\n",
      "CLOSING EPOCH = 45/5000 | loss = 1.2405810356140137 | acc=1.0 | lr=0.1 | time=0:0\n",
      "---------- num_classes=6 ----------\n",
      "EPOCH = 0/5000 | loss = 30.32478904724121 | acc=0.0 | lr=0.1 | time=0:0\n",
      "CLOSING EPOCH = 167/5000 | loss = 0.4426487684249878 | acc=1.0 | lr=0.1 | time=0:0\n",
      "---------- num_classes=10 ----------\n",
      "EPOCH = 0/5000 | loss = 33.459144592285156 | acc=0.0 | lr=0.1 | time=0:0\n",
      "EPOCH = 500/5000 | loss = 0.44835370779037476 | acc=0.9 | lr=0.1 | time=0:12\n",
      "CLOSING EPOCH = 502/5000 | loss = 0.43957585096359253 | acc=1.0 | lr=0.1 | time=0:12\n",
      "---------- num_classes=14 ----------\n",
      "EPOCH = 0/5000 | loss = 28.922590255737305 | acc=0.0 | lr=0.1 | time=0:0\n",
      "CLOSING EPOCH = 363/5000 | loss = 0.5100359916687012 | acc=1.0 | lr=0.1 | time=0:0\n",
      "---------- num_classes=18 ----------\n",
      "EPOCH = 0/5000 | loss = 28.921958923339844 | acc=0.0 | lr=0.1 | time=0:0\n",
      "CLOSING EPOCH = 417/5000 | loss = 0.36749255657196045 | acc=1.0 | lr=0.1 | time=0:0\n",
      "---------- num_classes=22 ----------\n",
      "EPOCH = 0/5000 | loss = 32.89603042602539 | acc=0.0 | lr=0.1 | time=0:0\n",
      "EPOCH = 500/5000 | loss = 0.6654266715049744 | acc=0.9090909090909091 | lr=0.1 | time=0:23\n",
      "EPOCH = 1000/5000 | loss = 0.2907906770706177 | acc=0.9545454545454546 | lr=0.1 | time=0:23\n",
      "CLOSING EPOCH = 1011/5000 | loss = 0.2796030044555664 | acc=1.0 | lr=0.1 | time=0:23\n",
      "---------- num_classes=26 ----------\n",
      "EPOCH = 0/5000 | loss = 33.04853057861328 | acc=0.0 | lr=0.1 | time=0:0\n",
      "EPOCH = 500/5000 | loss = 2.1339967250823975 | acc=0.46153846153846156 | lr=0.1 | time=0:27\n",
      "EPOCH = 1000/5000 | loss = 1.392263412475586 | acc=0.6538461538461539 | lr=0.1 | time=0:27\n",
      "EPOCH = 1500/5000 | loss = 0.8204175233840942 | acc=0.9230769230769231 | lr=0.1 | time=0:27\n",
      "CLOSING EPOCH = 1712/5000 | loss = 0.6551945209503174 | acc=1.0 | lr=0.1 | time=0:27\n",
      "---------- num_classes=30 ----------\n",
      "EPOCH = 0/5000 | loss = 35.129581451416016 | acc=0.0 | lr=0.1 | time=0:0\n",
      "EPOCH = 500/5000 | loss = 0.8580507040023804 | acc=0.8666666666666667 | lr=0.1 | time=0:30\n",
      "EPOCH = 1000/5000 | loss = 0.3955463469028473 | acc=0.9333333333333333 | lr=0.1 | time=0:30\n",
      "CLOSING EPOCH = 1204/5000 | loss = 0.31285253167152405 | acc=1.0 | lr=0.1 | time=0:30\n",
      "---------- num_classes=34 ----------\n",
      "EPOCH = 0/5000 | loss = 35.13486099243164 | acc=0.0 | lr=0.1 | time=0:0\n",
      "EPOCH = 500/5000 | loss = 1.3079133033752441 | acc=0.8235294117647058 | lr=0.1 | time=0:34\n",
      "EPOCH = 1000/5000 | loss = 0.8044503927230835 | acc=0.9117647058823529 | lr=0.1 | time=0:34\n",
      "EPOCH = 1500/5000 | loss = 0.5944812893867493 | acc=0.9411764705882353 | lr=0.1 | time=0:34\n",
      "CLOSING EPOCH = 1972/5000 | loss = 0.4097968339920044 | acc=1.0 | lr=0.1 | time=0:34\n",
      "---------- num_classes=38 ----------\n",
      "EPOCH = 0/5000 | loss = 29.23638916015625 | acc=0.0 | lr=0.1 | time=0:0\n",
      "EPOCH = 500/5000 | loss = 1.2156566381454468 | acc=0.868421052631579 | lr=0.1 | time=0:38\n",
      "EPOCH = 1000/5000 | loss = 0.7410655617713928 | acc=0.9473684210526315 | lr=0.1 | time=0:38\n",
      "EPOCH = 1500/5000 | loss = 0.5448017716407776 | acc=0.9736842105263158 | lr=0.1 | time=0:38\n",
      "EPOCH = 2000/5000 | loss = 0.421863853931427 | acc=0.9736842105263158 | lr=0.1 | time=0:38\n",
      "EPOCH = 2500/5000 | loss = 0.3472718596458435 | acc=0.9736842105263158 | lr=0.1 | time=0:38\n",
      "EPOCH = 3000/5000 | loss = 0.2970971167087555 | acc=0.9736842105263158 | lr=0.1 | time=0:38\n",
      "EPOCH = 3500/5000 | loss = 0.25937625765800476 | acc=0.9736842105263158 | lr=0.1 | time=0:38\n",
      "EPOCH = 4000/5000 | loss = 0.22892680764198303 | acc=0.9736842105263158 | lr=0.1 | time=0:38\n",
      "EPOCH = 4500/5000 | loss = 0.2013433575630188 | acc=0.9736842105263158 | lr=0.1 | time=0:38\n",
      "CLOSING EPOCH = 4627/5000 | loss = 0.1984948217868805 | acc=1.0 | lr=0.1 | time=0:38\n",
      "---------- num_classes=42 ----------\n",
      "EPOCH = 0/5000 | loss = 31.824440002441406 | acc=0.0 | lr=0.1 | time=0:0\n",
      "EPOCH = 500/5000 | loss = 1.577378749847412 | acc=0.5952380952380952 | lr=0.1 | time=0:42\n",
      "EPOCH = 1000/5000 | loss = 0.9110701680183411 | acc=0.9047619047619048 | lr=0.1 | time=0:42\n",
      "EPOCH = 1500/5000 | loss = 0.7217947840690613 | acc=0.8809523809523809 | lr=0.1 | time=0:42\n",
      "EPOCH = 2000/5000 | loss = 0.5180471539497375 | acc=0.9285714285714286 | lr=0.1 | time=0:42\n",
      "EPOCH = 2500/5000 | loss = 0.4100426137447357 | acc=0.9761904761904762 | lr=0.1 | time=0:42\n",
      "EPOCH = 3000/5000 | loss = 0.3446410298347473 | acc=0.9761904761904762 | lr=0.1 | time=0:42\n",
      "EPOCH = 3500/5000 | loss = 0.30039867758750916 | acc=0.9761904761904762 | lr=0.1 | time=0:42\n",
      "EPOCH = 4000/5000 | loss = 0.25844600796699524 | acc=0.9761904761904762 | lr=0.1 | time=0:42\n",
      "CLOSING EPOCH = 4298/5000 | loss = 0.24161966145038605 | acc=1.0 | lr=0.1 | time=0:42\n",
      "---------- num_classes=46 ----------\n",
      "EPOCH = 0/5000 | loss = 32.996551513671875 | acc=0.0 | lr=0.1 | time=0:0\n"
     ]
    }
   ],
   "source": [
    "model = models.vgg16(weights=models.VGG16_Weights.IMAGENET1K_V1)\n",
    "\n",
    "NUM_CLASSES = range(2, 65, 4)\n",
    "BATCH_SIZE = 128  \n",
    "IMAGE_SIZE = 64\n",
    "EPOCHS = 5000\n",
    "MASK = masks.MaskLine\n",
    "# CRITERION = FocalLoss(gamma=1) \n",
    "CRITERION = nn.CrossEntropyLoss()\n",
    "\n",
    "# writer = SummaryWriter(f\"runs/experiment 1\", comment=f\"{BATCH_SIZE=}\\n{IMAGE_SIZE=}\\n{EPOCHS=}\\n{MASK.__name__=}\\n{CRITERION.__class__.__name__=}\")\n",
    "print(f\"Running experiment 1\")\n",
    "\n",
    "for num_classes in NUM_CLASSES:\n",
    "    univ_image = init_image(IMAGE_SIZE)\n",
    "    \n",
    "    print(f\"---------- num_classes={num_classes} ----------\")\n",
    "    \n",
    "    univ_image, epochs = train(\n",
    "        model=model,\n",
    "        univ_image=univ_image,\n",
    "        epochs=EPOCHS,\n",
    "        batch_size=num_classes,\n",
    "        num_classes=num_classes,\n",
    "        criterion=CRITERION,\n",
    "        mask=MASK,\n",
    "        writer=None\n",
    "    )\n",
    "    \n",
    "    acc, probs = get_accuracy(model, univ_image, num_classes, MASK)\n",
    "    \n",
    "    output[\"num_classes\"].append(num_classes)\n",
    "    output[\"acc\"].append(acc /  num_classes)\n",
    "    output[\"probs\"].append(probs)\n",
    "    output[\"epochs\"].append(epochs)\n",
    "\n",
    "with open(\"result.json\", \"w\") as f:\n",
    "    json.dump(output, f)"
   ]
  },
  {
   "cell_type": "code",
   "execution_count": null,
   "id": "b2093572-e17f-4376-b2e2-9468ec9da5c6",
   "metadata": {},
   "outputs": [],
   "source": [
    "import matplotlib.pyplot as plt\n",
    "\n",
    "plt.imshow((univ_image.permute(1, 2, 0).cpu().detach().numpy() * 255).astype(np.uint8))\n",
    "plt.savefig(\"./univ_image_exp_4_vgg16.png\")"
   ]
  },
  {
   "cell_type": "code",
   "execution_count": 9,
   "id": "3bb955e81e867633",
   "metadata": {
    "ExecuteTime": {
     "end_time": "2024-04-06T20:56:46.840510Z",
     "start_time": "2024-04-06T20:56:46.825003Z"
    },
    "collapsed": false,
    "jupyter": {
     "outputs_hidden": false
    }
   },
   "outputs": [],
   "source": [
    "ans = []\n",
    "for prob_array in output[\"probs\"]:\n",
    "    cur_ans = [float(x) for x in prob_array]\n",
    "    ans.append(cur_ans)"
   ]
  },
  {
   "cell_type": "code",
   "execution_count": 11,
   "id": "33a6c50d5a4e7089",
   "metadata": {
    "ExecuteTime": {
     "end_time": "2024-04-06T20:56:49.390746300Z",
     "start_time": "2024-04-06T20:56:49.385747Z"
    },
    "collapsed": false,
    "jupyter": {
     "outputs_hidden": false
    }
   },
   "outputs": [],
   "source": [
    "output[\"probs\"] = ans"
   ]
  },
  {
   "cell_type": "code",
   "execution_count": 12,
   "id": "f1bd6a2cf4918284",
   "metadata": {
    "ExecuteTime": {
     "end_time": "2024-04-06T20:56:50.281607900Z",
     "start_time": "2024-04-06T20:56:50.262539700Z"
    },
    "collapsed": false,
    "jupyter": {
     "outputs_hidden": false
    }
   },
   "outputs": [],
   "source": [
    "with open(\"./result.json\", \"w\") as f:\n",
    "    json.dump(output, f)"
   ]
  },
  {
   "cell_type": "code",
   "execution_count": null,
   "id": "8c7ea504191d7e40",
   "metadata": {
    "collapsed": false,
    "jupyter": {
     "outputs_hidden": false
    }
   },
   "outputs": [],
   "source": []
  }
 ],
 "metadata": {
  "kernelspec": {
   "display_name": "Python 3 (ipykernel)",
   "language": "python",
   "name": "python3"
  },
  "language_info": {
   "codemirror_mode": {
    "name": "ipython",
    "version": 3
   },
   "file_extension": ".py",
   "mimetype": "text/x-python",
   "name": "python",
   "nbconvert_exporter": "python",
   "pygments_lexer": "ipython3",
   "version": "3.10.12"
  }
 },
 "nbformat": 4,
 "nbformat_minor": 5
}
