{
 "cells": [
  {
   "cell_type": "code",
   "execution_count": 1,
   "id": "initial_id",
   "metadata": {
    "collapsed": true,
    "ExecuteTime": {
     "end_time": "2024-12-23T14:00:56.000153Z",
     "start_time": "2024-12-23T14:00:32.944149500Z"
    }
   },
   "outputs": [
    {
     "name": "stdout",
     "output_type": "stream",
     "text": [
      "cuda:0\n"
     ]
    }
   ],
   "source": [
    "import json\n",
    "\n",
    "import numpy as np\n",
    "\n",
    "import torch\n",
    "import torch.nn as nn\n",
    "import torch.optim as optim\n",
    "from torchvision import models\n",
    "from torchvision.transforms import v2\n",
    "\n",
    "from torch.utils.tensorboard import SummaryWriter\n",
    "\n",
    "device = torch.device('cuda:0' if torch.cuda.is_available() else 'cpu')\n",
    "print(device)"
   ]
  },
  {
   "cell_type": "code",
   "outputs": [],
   "source": [
    "import masks\n",
    "from exp_base import get_accuracy, train, plot_probs, init_image"
   ],
   "metadata": {
    "collapsed": false,
    "ExecuteTime": {
     "end_time": "2024-12-23T14:01:03.345153Z",
     "start_time": "2024-12-23T14:01:02.703129900Z"
    }
   },
   "id": "7393a8de4dd878e4",
   "execution_count": 2
  },
  {
   "cell_type": "code",
   "outputs": [],
   "source": [
    "output = {\n",
    "    \"num_classes\": [],\n",
    "    \"acc\": [],\n",
    "    \"probs\": [],\n",
    "    \"epochs\": []\n",
    "}"
   ],
   "metadata": {
    "collapsed": false,
    "ExecuteTime": {
     "end_time": "2024-12-23T14:03:01.534824Z",
     "start_time": "2024-12-23T14:03:01.523732100Z"
    }
   },
   "id": "5906bb27b55ab1cc",
   "execution_count": 4
  },
  {
   "cell_type": "code",
   "outputs": [
    {
     "name": "stdout",
     "output_type": "stream",
     "text": [
      "Running experiment 1\n",
      "---------- num_classes=2 ----------\n",
      "EPOCH = 0/5000 | loss = 28.90737533569336 | acc=0.0 | lr=0.1 | time=0:0\n",
      "CLOSING EPOCH = 72/5000 | loss = 0.823917806148529 | acc=1.0 | lr=0.1 | time=0:0\n",
      "---------- num_classes=6 ----------\n",
      "EPOCH = 0/5000 | loss = 31.735252380371094 | acc=0.0 | lr=0.1 | time=0:0\n",
      "CLOSING EPOCH = 169/5000 | loss = 0.28455066680908203 | acc=1.0 | lr=0.1 | time=0:0\n",
      "---------- num_classes=10 ----------\n",
      "EPOCH = 0/5000 | loss = 33.864959716796875 | acc=0.0 | lr=0.1 | time=0:0\n",
      "CLOSING EPOCH = 482/5000 | loss = 0.30100518465042114 | acc=1.0 | lr=0.1 | time=0:0\n",
      "---------- num_classes=14 ----------\n",
      "EPOCH = 0/5000 | loss = 27.021169662475586 | acc=0.0 | lr=0.1 | time=0:0\n",
      "EPOCH = 500/5000 | loss = 0.4026038348674774 | acc=0.9285714285714286 | lr=0.1 | time=1:20\n",
      "CLOSING EPOCH = 516/5000 | loss = 0.2962760031223297 | acc=1.0 | lr=0.1 | time=1:20\n",
      "---------- num_classes=18 ----------\n",
      "EPOCH = 0/5000 | loss = 32.07823181152344 | acc=0.0 | lr=0.1 | time=0:0\n",
      "CLOSING EPOCH = 427/5000 | loss = 0.22305570542812347 | acc=1.0 | lr=0.1 | time=0:0\n",
      "---------- num_classes=22 ----------\n",
      "EPOCH = 0/5000 | loss = 30.546123504638672 | acc=0.0 | lr=0.1 | time=0:0\n",
      "EPOCH = 500/5000 | loss = 1.2592449188232422 | acc=0.7727272727272727 | lr=0.1 | time=1:54\n",
      "EPOCH = 1000/5000 | loss = 0.6188238859176636 | acc=0.9090909090909091 | lr=0.1 | time=1:54\n",
      "CLOSING EPOCH = 1150/5000 | loss = 0.4929763674736023 | acc=1.0 | lr=0.1 | time=1:54\n",
      "---------- num_classes=26 ----------\n",
      "EPOCH = 0/5000 | loss = 34.379268646240234 | acc=0.0 | lr=0.1 | time=0:0\n",
      "EPOCH = 500/5000 | loss = 1.7303208112716675 | acc=0.6153846153846154 | lr=0.1 | time=2:9\n"
     ]
    }
   ],
   "source": [
    "model = models.vgg16(weights=models.VGG16_Weights.IMAGENET1K_V1)\n",
    "\n",
    "NUM_CLASSES = range(2, 65, 4)\n",
    "BATCH_SIZE = 64  \n",
    "IMAGE_SIZE = 64\n",
    "EPOCHS = 5000\n",
    "MASK = masks.MaskLine\n",
    "# CRITERION = FocalLoss(gamma=1) \n",
    "CRITERION = nn.CrossEntropyLoss()\n",
    "\n",
    "# writer = SummaryWriter(f\"runs/experiment 1\", comment=f\"{BATCH_SIZE=}\\n{IMAGE_SIZE=}\\n{EPOCHS=}\\n{MASK.__name__=}\\n{CRITERION.__class__.__name__=}\")\n",
    "print(f\"Running experiment 1\")\n",
    "\n",
    "for num_classes in NUM_CLASSES:\n",
    "    univ_image = init_image(IMAGE_SIZE)\n",
    "    \n",
    "    print(f\"---------- num_classes={num_classes} ----------\")\n",
    "    \n",
    "    univ_image, epochs = train(\n",
    "        model=model,\n",
    "        univ_image=univ_image,\n",
    "        epochs=EPOCHS,\n",
    "        batch_size=num_classes,\n",
    "        num_classes=num_classes,\n",
    "        criterion=CRITERION,\n",
    "        mask=MASK,\n",
    "        writer=None\n",
    "    )\n",
    "    \n",
    "    acc, probs = get_accuracy(model, univ_image, num_classes, MASK)\n",
    "    \n",
    "    output[\"num_classes\"].append(num_classes)\n",
    "    output[\"acc\"].append(acc /  num_classes)\n",
    "    output[\"probs\"].append(probs)\n",
    "    output[\"epochs\"].append(epochs)\n",
    "\n",
    "with open(\"result.json\", \"w\") as f:\n",
    "    json.dump(output, f)"
   ],
   "metadata": {
    "collapsed": false,
    "is_executing": true,
    "ExecuteTime": {
     "start_time": "2024-12-23T14:03:35.466441900Z"
    }
   },
   "id": "1bb68d2c0e77c303",
   "execution_count": null
  },
  {
   "cell_type": "code",
   "outputs": [
    {
     "name": "stdout",
     "output_type": "stream",
     "text": [
      "{'num_classes': [2, 6, 10, 14, 18, 22, 26, 30, 34, 38, 42, 46, 50, 54, 58, 62], 'acc': [1.0, 1.0, 1.0, 1.0, 1.0, 1.0, 1.0, 1.0, 1.0, 1.0, 1.0, 1.0, 1.0, 1.0, 1.0, 1.0], 'probs': [[array(0.07589086, dtype=float32), array(0.9964557, dtype=float32)], [array(0.08404803, dtype=float32), array(0.9538117, dtype=float32), array(0.9398153, dtype=float32), array(0.9516147, dtype=float32), array(0.9814642, dtype=float32), array(0.9769743, dtype=float32)], [array(0.16387106, dtype=float32), array(0.94675624, dtype=float32), array(0.67618275, dtype=float32), array(0.5646349, dtype=float32), array(0.9842951, dtype=float32), array(0.6997943, dtype=float32), array(0.9909429, dtype=float32), array(0.08116138, dtype=float32), array(0.09859002, dtype=float32), array(0.6809992, dtype=float32)], [array(0.72104967, dtype=float32), array(0.877647, dtype=float32), array(0.9380749, dtype=float32), array(0.927086, dtype=float32), array(0.96320266, dtype=float32), array(0.9859242, dtype=float32), array(0.99004304, dtype=float32), array(0.10618024, dtype=float32), array(0.06846671, dtype=float32), array(0.70305616, dtype=float32), array(0.868816, dtype=float32), array(0.711148, dtype=float32), array(0.7220499, dtype=float32), array(0.8505417, dtype=float32)], [array(0.05357354, dtype=float32), array(0.9913641, dtype=float32), array(0.8781933, dtype=float32), array(0.9803565, dtype=float32), array(0.9952436, dtype=float32), array(0.9033645, dtype=float32), array(0.9851232, dtype=float32), array(0.86520475, dtype=float32), array(0.6971597, dtype=float32), array(0.89559114, dtype=float32), array(0.954884, dtype=float32), array(0.9138321, dtype=float32), array(0.9789782, dtype=float32), array(0.9196937, dtype=float32), array(0.9612161, dtype=float32), array(0.92070496, dtype=float32), array(0.81785524, dtype=float32), array(0.9142461, dtype=float32)], [array(0.4337683, dtype=float32), array(0.45046583, dtype=float32), array(0.7157205, dtype=float32), array(0.37641546, dtype=float32), array(0.7422594, dtype=float32), array(0.6240913, dtype=float32), array(0.9641769, dtype=float32), array(0.5819207, dtype=float32), array(0.21742897, dtype=float32), array(0.98346555, dtype=float32), array(0.8363158, dtype=float32), array(0.8095196, dtype=float32), array(0.9237501, dtype=float32), array(0.7251858, dtype=float32), array(0.8759667, dtype=float32), array(0.8329186, dtype=float32), array(0.74658537, dtype=float32), array(0.92487186, dtype=float32), array(0.84901637, dtype=float32), array(0.3020206, dtype=float32), array(0.9088997, dtype=float32), array(0.92071617, dtype=float32)], [array(0.08767944, dtype=float32), array(0.23358606, dtype=float32), array(0.61145097, dtype=float32), array(0.67844355, dtype=float32), array(0.8493939, dtype=float32), array(0.9791022, dtype=float32), array(0.929865, dtype=float32), array(0.37209678, dtype=float32), array(0.0847055, dtype=float32), array(0.93880284, dtype=float32), array(0.9732406, dtype=float32), array(0.9445532, dtype=float32), array(0.7710008, dtype=float32), array(0.6878497, dtype=float32), array(0.84979004, dtype=float32), array(0.90374273, dtype=float32), array(0.70540863, dtype=float32), array(0.87916726, dtype=float32), array(0.86578345, dtype=float32), array(0.2470926, dtype=float32), array(0.8980357, dtype=float32), array(0.5051504, dtype=float32), array(0.89171517, dtype=float32), array(0.6496535, dtype=float32), array(0.8624831, dtype=float32), array(0.963301, dtype=float32)], [array(0.07317659, dtype=float32), array(0.2427959, dtype=float32), array(0.6903337, dtype=float32), array(0.75592643, dtype=float32), array(0.8737648, dtype=float32), array(0.9804417, dtype=float32), array(0.9449145, dtype=float32), array(0.70763665, dtype=float32), array(0.16700277, dtype=float32), array(0.9748165, dtype=float32), array(0.8621748, dtype=float32), array(0.94898736, dtype=float32), array(0.92258066, dtype=float32), array(0.7152451, dtype=float32), array(0.89288735, dtype=float32), array(0.82371783, dtype=float32), array(0.65695083, dtype=float32), array(0.5963309, dtype=float32), array(0.78130066, dtype=float32), array(0.6181218, dtype=float32), array(0.9042074, dtype=float32), array(0.7190119, dtype=float32), array(0.84942794, dtype=float32), array(0.8020171, dtype=float32), array(0.79358524, dtype=float32), array(0.95424354, dtype=float32), array(0.3656581, dtype=float32), array(0.9174476, dtype=float32), array(0.96039516, dtype=float32), array(0.5584454, dtype=float32)], [array(0.8087009, dtype=float32), array(0.50971895, dtype=float32), array(0.8106851, dtype=float32), array(0.66102487, dtype=float32), array(0.7967676, dtype=float32), array(0.5783513, dtype=float32), array(0.94855225, dtype=float32), array(0.89701873, dtype=float32), array(0.8637839, dtype=float32), array(0.92142874, dtype=float32), array(0.76843524, dtype=float32), array(0.9731151, dtype=float32), array(0.73000365, dtype=float32), array(0.6909779, dtype=float32), array(0.8265539, dtype=float32), array(0.71120924, dtype=float32), array(0.4869487, dtype=float32), array(0.58492696, dtype=float32), array(0.6074507, dtype=float32), array(0.29864728, dtype=float32), array(0.9132531, dtype=float32), array(0.88445115, dtype=float32), array(0.9520144, dtype=float32), array(0.9676876, dtype=float32), array(0.8592776, dtype=float32), array(0.9318119, dtype=float32), array(0.19712394, dtype=float32), array(0.72783244, dtype=float32), array(0.96029794, dtype=float32), array(0.131094, dtype=float32), array(0.9531643, dtype=float32), array(0.9537078, dtype=float32), array(0.19145307, dtype=float32), array(0.20225085, dtype=float32)], [array(0.3637137, dtype=float32), array(0.9096143, dtype=float32), array(0.8017443, dtype=float32), array(0.90851253, dtype=float32), array(0.93513584, dtype=float32), array(0.9794598, dtype=float32), array(0.92927045, dtype=float32), array(0.9687204, dtype=float32), array(0.9660156, dtype=float32), array(0.9555594, dtype=float32), array(0.9056342, dtype=float32), array(0.96477205, dtype=float32), array(0.933586, dtype=float32), array(0.9794881, dtype=float32), array(0.8418925, dtype=float32), array(0.94759494, dtype=float32), array(0.8481622, dtype=float32), array(0.4764418, dtype=float32), array(0.95969075, dtype=float32), array(0.6362851, dtype=float32), array(0.95543486, dtype=float32), array(0.8437125, dtype=float32), array(0.9712105, dtype=float32), array(0.97827965, dtype=float32), array(0.9713957, dtype=float32), array(0.92211413, dtype=float32), array(0.19160192, dtype=float32), array(0.8575349, dtype=float32), array(0.94303143, dtype=float32), array(0.21323757, dtype=float32), array(0.96721363, dtype=float32), array(0.9525992, dtype=float32), array(0.938644, dtype=float32), array(0.8271518, dtype=float32), array(0.9538871, dtype=float32), array(0.88685024, dtype=float32), array(0.9667027, dtype=float32), array(0.9665813, dtype=float32)], [array(0.09623662, dtype=float32), array(0.95308036, dtype=float32), array(0.48702335, dtype=float32), array(0.48671687, dtype=float32), array(0.67332983, dtype=float32), array(0.8708263, dtype=float32), array(0.8904298, dtype=float32), array(0.945886, dtype=float32), array(0.8875286, dtype=float32), array(0.95327854, dtype=float32), array(0.24447845, dtype=float32), array(0.96306235, dtype=float32), array(0.2557361, dtype=float32), array(0.9219825, dtype=float32), array(0.9328886, dtype=float32), array(0.95325017, dtype=float32), array(0.9363985, dtype=float32), array(0.65980834, dtype=float32), array(0.56709546, dtype=float32), array(0.30160445, dtype=float32), array(0.8659314, dtype=float32), array(0.84036547, dtype=float32), array(0.9549794, dtype=float32), array(0.98139036, dtype=float32), array(0.8069245, dtype=float32), array(0.8674977, dtype=float32), array(0.29605296, dtype=float32), array(0.7042948, dtype=float32), array(0.97546965, dtype=float32), array(0.35979348, dtype=float32), array(0.89718723, dtype=float32), array(0.9158942, dtype=float32), array(0.8316659, dtype=float32), array(0.9726993, dtype=float32), array(0.9566312, dtype=float32), array(0.774223, dtype=float32), array(0.90145534, dtype=float32), array(0.9391912, dtype=float32), array(0.93453246, dtype=float32), array(0.9826439, dtype=float32), array(0.757381, dtype=float32), array(0.9170817, dtype=float32)], [array(0.41978082, dtype=float32), array(0.7233235, dtype=float32), array(0.67073286, dtype=float32), array(0.4130823, dtype=float32), array(0.7509047, dtype=float32), array(0.916897, dtype=float32), array(0.9560139, dtype=float32), array(0.89218587, dtype=float32), array(0.9587994, dtype=float32), array(0.08403962, dtype=float32), array(0.62348676, dtype=float32), array(0.889559, dtype=float32), array(0.51229244, dtype=float32), array(0.38374656, dtype=float32), array(0.5950938, dtype=float32), array(0.6343935, dtype=float32), array(0.23585573, dtype=float32), array(0.43834773, dtype=float32), array(0.87907857, dtype=float32), array(0.175069, dtype=float32), array(0.7712148, dtype=float32), array(0.951938, dtype=float32), array(0.9486299, dtype=float32), array(0.909266, dtype=float32), array(0.5916412, dtype=float32), array(0.9162541, dtype=float32), array(0.60498893, dtype=float32), array(0.82935107, dtype=float32), array(0.67475694, dtype=float32), array(0.3686141, dtype=float32), array(0.9840019, dtype=float32), array(0.9522651, dtype=float32), array(0.9328783, dtype=float32), array(0.84149706, dtype=float32), array(0.92301685, dtype=float32), array(0.909988, dtype=float32), array(0.9064007, dtype=float32), array(0.97248536, dtype=float32), array(0.9479231, dtype=float32), array(0.9962424, dtype=float32), array(0.84516984, dtype=float32), array(0.89085096, dtype=float32), array(0.94738233, dtype=float32), array(0.95316416, dtype=float32), array(0.53418297, dtype=float32), array(0.97683245, dtype=float32)], [array(0.8885106, dtype=float32), array(0.9691037, dtype=float32), array(0.7875571, dtype=float32), array(0.96027446, dtype=float32), array(0.89169204, dtype=float32), array(0.9230519, dtype=float32), array(0.96472013, dtype=float32), array(0.9613784, dtype=float32), array(0.939227, dtype=float32), array(0.9885238, dtype=float32), array(0.93291867, dtype=float32), array(0.9919884, dtype=float32), array(0.9525347, dtype=float32), array(0.98271376, dtype=float32), array(0.9882234, dtype=float32), array(0.9391626, dtype=float32), array(0.8132796, dtype=float32), array(0.9303477, dtype=float32), array(0.8604218, dtype=float32), array(0.6888516, dtype=float32), array(0.9023187, dtype=float32), array(0.7766875, dtype=float32), array(0.9101051, dtype=float32), array(0.7527074, dtype=float32), array(0.97507393, dtype=float32), array(0.9391977, dtype=float32), array(0.22523816, dtype=float32), array(0.8699261, dtype=float32), array(0.988931, dtype=float32), array(0.09084375, dtype=float32), array(0.9394768, dtype=float32), array(0.9389148, dtype=float32), array(0.9811397, dtype=float32), array(0.9876199, dtype=float32), array(0.9762566, dtype=float32), array(0.94351715, dtype=float32), array(0.946702, dtype=float32), array(0.96247095, dtype=float32), array(0.9442257, dtype=float32), array(0.98832315, dtype=float32), array(0.89148533, dtype=float32), array(0.93665844, dtype=float32), array(0.9870133, dtype=float32), array(0.9334515, dtype=float32), array(0.91815615, dtype=float32), array(0.9924149, dtype=float32), array(0.93905276, dtype=float32), array(0.96336424, dtype=float32), array(0.96824795, dtype=float32), array(0.96965426, dtype=float32)], [array(0.13450456, dtype=float32), array(0.9656016, dtype=float32), array(0.3895087, dtype=float32), array(0.9437609, dtype=float32), array(0.7591813, dtype=float32), array(0.91792375, dtype=float32), array(0.95839643, dtype=float32), array(0.9462177, dtype=float32), array(0.90055966, dtype=float32), array(0.964539, dtype=float32), array(0.9559242, dtype=float32), array(0.9535174, dtype=float32), array(0.9533272, dtype=float32), array(0.98761255, dtype=float32), array(0.95328295, dtype=float32), array(0.91525114, dtype=float32), array(0.9160346, dtype=float32), array(0.9020775, dtype=float32), array(0.9509288, dtype=float32), array(0.7124858, dtype=float32), array(0.9350576, dtype=float32), array(0.8947184, dtype=float32), array(0.8821795, dtype=float32), array(0.9628937, dtype=float32), array(0.9375845, dtype=float32), array(0.9091956, dtype=float32), array(0.53966904, dtype=float32), array(0.89277494, dtype=float32), array(0.9578256, dtype=float32), array(0.77511805, dtype=float32), array(0.9186224, dtype=float32), array(0.95277333, dtype=float32), array(0.9477894, dtype=float32), array(0.79543287, dtype=float32), array(0.9539255, dtype=float32), array(0.64437526, dtype=float32), array(0.85767424, dtype=float32), array(0.9101226, dtype=float32), array(0.8898761, dtype=float32), array(0.981545, dtype=float32), array(0.84418464, dtype=float32), array(0.88870496, dtype=float32), array(0.97798127, dtype=float32), array(0.6005134, dtype=float32), array(0.9381369, dtype=float32), array(0.85606843, dtype=float32), array(0.9674037, dtype=float32), array(0.9602351, dtype=float32), array(0.94255567, dtype=float32), array(0.9509661, dtype=float32), array(0.77667016, dtype=float32), array(0.984554, dtype=float32), array(0.3622729, dtype=float32), array(0.6972603, dtype=float32)], [array(0.13023944, dtype=float32), array(0.9633834, dtype=float32), array(0.7343536, dtype=float32), array(0.80985105, dtype=float32), array(0.7305293, dtype=float32), array(0.96603584, dtype=float32), array(0.9357754, dtype=float32), array(0.9391092, dtype=float32), array(0.95458764, dtype=float32), array(0.92001677, dtype=float32), array(0.97611666, dtype=float32), array(0.977815, dtype=float32), array(0.3588581, dtype=float32), array(0.7533314, dtype=float32), array(0.5467878, dtype=float32), array(0.9475854, dtype=float32), array(0.79630846, dtype=float32), array(0.5367256, dtype=float32), array(0.79353255, dtype=float32), array(0.3320024, dtype=float32), array(0.92348385, dtype=float32), array(0.83114, dtype=float32), array(0.96634877, dtype=float32), array(0.9817442, dtype=float32), array(0.8441258, dtype=float32), array(0.90791434, dtype=float32), array(0.7658917, dtype=float32), array(0.8005804, dtype=float32), array(0.9536016, dtype=float32), array(0.27200922, dtype=float32), array(0.9473008, dtype=float32), array(0.95896447, dtype=float32), array(0.95143044, dtype=float32), array(0.77311987, dtype=float32), array(0.88218766, dtype=float32), array(0.8828851, dtype=float32), array(0.73962855, dtype=float32), array(0.97111535, dtype=float32), array(0.65195364, dtype=float32), array(0.977679, dtype=float32), array(0.70383835, dtype=float32), array(0.92534715, dtype=float32), array(0.94802237, dtype=float32), array(0.5217758, dtype=float32), array(0.6149481, dtype=float32), array(0.99273723, dtype=float32), array(0.8718101, dtype=float32), array(0.9447682, dtype=float32), array(0.938218, dtype=float32), array(0.96554935, dtype=float32), array(0.945341, dtype=float32), array(0.8333016, dtype=float32), array(0.24104536, dtype=float32), array(0.90357006, dtype=float32), array(0.8317151, dtype=float32), array(0.20003502, dtype=float32), array(0.95373005, dtype=float32), array(0.9735676, dtype=float32)], [array(0.8535141, dtype=float32), array(0.7831491, dtype=float32), array(0.8216142, dtype=float32), array(0.478297, dtype=float32), array(0.7986587, dtype=float32), array(0.93704766, dtype=float32), array(0.9646863, dtype=float32), array(0.89443403, dtype=float32), array(0.93451715, dtype=float32), array(0.83780426, dtype=float32), array(0.9513689, dtype=float32), array(0.9786098, dtype=float32), array(0.9682548, dtype=float32), array(0.976101, dtype=float32), array(0.62851083, dtype=float32), array(0.9668269, dtype=float32), array(0.9893182, dtype=float32), array(0.96952593, dtype=float32), array(0.98577684, dtype=float32), array(0.9580999, dtype=float32), array(0.9171842, dtype=float32), array(0.91285115, dtype=float32), array(0.98631334, dtype=float32), array(0.98826796, dtype=float32), array(0.8214666, dtype=float32), array(0.9083321, dtype=float32), array(0.25357392, dtype=float32), array(0.6159157, dtype=float32), array(0.9746592, dtype=float32), array(0.14197288, dtype=float32), array(0.95046574, dtype=float32), array(0.9346605, dtype=float32), array(0.96434236, dtype=float32), array(0.98567957, dtype=float32), array(0.99072766, dtype=float32), array(0.9674772, dtype=float32), array(0.95805764, dtype=float32), array(0.9787891, dtype=float32), array(0.5241187, dtype=float32), array(0.98847497, dtype=float32), array(0.8617086, dtype=float32), array(0.6680022, dtype=float32), array(0.968511, dtype=float32), array(0.34120378, dtype=float32), array(0.6443011, dtype=float32), array(0.98613966, dtype=float32), array(0.9305077, dtype=float32), array(0.98756903, dtype=float32), array(0.9655568, dtype=float32), array(0.93808687, dtype=float32), array(0.93977445, dtype=float32), array(0.46302822, dtype=float32), array(0.6617694, dtype=float32), array(0.8461587, dtype=float32), array(0.78411967, dtype=float32), array(0.9126853, dtype=float32), array(0.83353376, dtype=float32), array(0.9392427, dtype=float32), array(0.81892824, dtype=float32), array(0.7837491, dtype=float32), array(0.9464858, dtype=float32), array(0.9290763, dtype=float32)]], 'epochs': [342, 370, 191, 699, 3401, 800, 1689, 1893, 1670, 2717, 2013, 3292, 2554, 3933, 4134, 4304]}\n"
     ]
    }
   ],
   "source": [
    "print(output)"
   ],
   "metadata": {
    "collapsed": false,
    "ExecuteTime": {
     "end_time": "2024-04-06T20:56:45.259212Z",
     "start_time": "2024-04-06T20:56:45.243187900Z"
    }
   },
   "id": "ec32b41abd67d16c",
   "execution_count": 7
  },
  {
   "cell_type": "code",
   "outputs": [
    {
     "data": {
      "text/plain": "[[array(0.07589086, dtype=float32), array(0.9964557, dtype=float32)],\n [array(0.08404803, dtype=float32),\n  array(0.9538117, dtype=float32),\n  array(0.9398153, dtype=float32),\n  array(0.9516147, dtype=float32),\n  array(0.9814642, dtype=float32),\n  array(0.9769743, dtype=float32)],\n [array(0.16387106, dtype=float32),\n  array(0.94675624, dtype=float32),\n  array(0.67618275, dtype=float32),\n  array(0.5646349, dtype=float32),\n  array(0.9842951, dtype=float32),\n  array(0.6997943, dtype=float32),\n  array(0.9909429, dtype=float32),\n  array(0.08116138, dtype=float32),\n  array(0.09859002, dtype=float32),\n  array(0.6809992, dtype=float32)],\n [array(0.72104967, dtype=float32),\n  array(0.877647, dtype=float32),\n  array(0.9380749, dtype=float32),\n  array(0.927086, dtype=float32),\n  array(0.96320266, dtype=float32),\n  array(0.9859242, dtype=float32),\n  array(0.99004304, dtype=float32),\n  array(0.10618024, dtype=float32),\n  array(0.06846671, dtype=float32),\n  array(0.70305616, dtype=float32),\n  array(0.868816, dtype=float32),\n  array(0.711148, dtype=float32),\n  array(0.7220499, dtype=float32),\n  array(0.8505417, dtype=float32)],\n [array(0.05357354, dtype=float32),\n  array(0.9913641, dtype=float32),\n  array(0.8781933, dtype=float32),\n  array(0.9803565, dtype=float32),\n  array(0.9952436, dtype=float32),\n  array(0.9033645, dtype=float32),\n  array(0.9851232, dtype=float32),\n  array(0.86520475, dtype=float32),\n  array(0.6971597, dtype=float32),\n  array(0.89559114, dtype=float32),\n  array(0.954884, dtype=float32),\n  array(0.9138321, dtype=float32),\n  array(0.9789782, dtype=float32),\n  array(0.9196937, dtype=float32),\n  array(0.9612161, dtype=float32),\n  array(0.92070496, dtype=float32),\n  array(0.81785524, dtype=float32),\n  array(0.9142461, dtype=float32)],\n [array(0.4337683, dtype=float32),\n  array(0.45046583, dtype=float32),\n  array(0.7157205, dtype=float32),\n  array(0.37641546, dtype=float32),\n  array(0.7422594, dtype=float32),\n  array(0.6240913, dtype=float32),\n  array(0.9641769, dtype=float32),\n  array(0.5819207, dtype=float32),\n  array(0.21742897, dtype=float32),\n  array(0.98346555, dtype=float32),\n  array(0.8363158, dtype=float32),\n  array(0.8095196, dtype=float32),\n  array(0.9237501, dtype=float32),\n  array(0.7251858, dtype=float32),\n  array(0.8759667, dtype=float32),\n  array(0.8329186, dtype=float32),\n  array(0.74658537, dtype=float32),\n  array(0.92487186, dtype=float32),\n  array(0.84901637, dtype=float32),\n  array(0.3020206, dtype=float32),\n  array(0.9088997, dtype=float32),\n  array(0.92071617, dtype=float32)],\n [array(0.08767944, dtype=float32),\n  array(0.23358606, dtype=float32),\n  array(0.61145097, dtype=float32),\n  array(0.67844355, dtype=float32),\n  array(0.8493939, dtype=float32),\n  array(0.9791022, dtype=float32),\n  array(0.929865, dtype=float32),\n  array(0.37209678, dtype=float32),\n  array(0.0847055, dtype=float32),\n  array(0.93880284, dtype=float32),\n  array(0.9732406, dtype=float32),\n  array(0.9445532, dtype=float32),\n  array(0.7710008, dtype=float32),\n  array(0.6878497, dtype=float32),\n  array(0.84979004, dtype=float32),\n  array(0.90374273, dtype=float32),\n  array(0.70540863, dtype=float32),\n  array(0.87916726, dtype=float32),\n  array(0.86578345, dtype=float32),\n  array(0.2470926, dtype=float32),\n  array(0.8980357, dtype=float32),\n  array(0.5051504, dtype=float32),\n  array(0.89171517, dtype=float32),\n  array(0.6496535, dtype=float32),\n  array(0.8624831, dtype=float32),\n  array(0.963301, dtype=float32)],\n [array(0.07317659, dtype=float32),\n  array(0.2427959, dtype=float32),\n  array(0.6903337, dtype=float32),\n  array(0.75592643, dtype=float32),\n  array(0.8737648, dtype=float32),\n  array(0.9804417, dtype=float32),\n  array(0.9449145, dtype=float32),\n  array(0.70763665, dtype=float32),\n  array(0.16700277, dtype=float32),\n  array(0.9748165, dtype=float32),\n  array(0.8621748, dtype=float32),\n  array(0.94898736, dtype=float32),\n  array(0.92258066, dtype=float32),\n  array(0.7152451, dtype=float32),\n  array(0.89288735, dtype=float32),\n  array(0.82371783, dtype=float32),\n  array(0.65695083, dtype=float32),\n  array(0.5963309, dtype=float32),\n  array(0.78130066, dtype=float32),\n  array(0.6181218, dtype=float32),\n  array(0.9042074, dtype=float32),\n  array(0.7190119, dtype=float32),\n  array(0.84942794, dtype=float32),\n  array(0.8020171, dtype=float32),\n  array(0.79358524, dtype=float32),\n  array(0.95424354, dtype=float32),\n  array(0.3656581, dtype=float32),\n  array(0.9174476, dtype=float32),\n  array(0.96039516, dtype=float32),\n  array(0.5584454, dtype=float32)],\n [array(0.8087009, dtype=float32),\n  array(0.50971895, dtype=float32),\n  array(0.8106851, dtype=float32),\n  array(0.66102487, dtype=float32),\n  array(0.7967676, dtype=float32),\n  array(0.5783513, dtype=float32),\n  array(0.94855225, dtype=float32),\n  array(0.89701873, dtype=float32),\n  array(0.8637839, dtype=float32),\n  array(0.92142874, dtype=float32),\n  array(0.76843524, dtype=float32),\n  array(0.9731151, dtype=float32),\n  array(0.73000365, dtype=float32),\n  array(0.6909779, dtype=float32),\n  array(0.8265539, dtype=float32),\n  array(0.71120924, dtype=float32),\n  array(0.4869487, dtype=float32),\n  array(0.58492696, dtype=float32),\n  array(0.6074507, dtype=float32),\n  array(0.29864728, dtype=float32),\n  array(0.9132531, dtype=float32),\n  array(0.88445115, dtype=float32),\n  array(0.9520144, dtype=float32),\n  array(0.9676876, dtype=float32),\n  array(0.8592776, dtype=float32),\n  array(0.9318119, dtype=float32),\n  array(0.19712394, dtype=float32),\n  array(0.72783244, dtype=float32),\n  array(0.96029794, dtype=float32),\n  array(0.131094, dtype=float32),\n  array(0.9531643, dtype=float32),\n  array(0.9537078, dtype=float32),\n  array(0.19145307, dtype=float32),\n  array(0.20225085, dtype=float32)],\n [array(0.3637137, dtype=float32),\n  array(0.9096143, dtype=float32),\n  array(0.8017443, dtype=float32),\n  array(0.90851253, dtype=float32),\n  array(0.93513584, dtype=float32),\n  array(0.9794598, dtype=float32),\n  array(0.92927045, dtype=float32),\n  array(0.9687204, dtype=float32),\n  array(0.9660156, dtype=float32),\n  array(0.9555594, dtype=float32),\n  array(0.9056342, dtype=float32),\n  array(0.96477205, dtype=float32),\n  array(0.933586, dtype=float32),\n  array(0.9794881, dtype=float32),\n  array(0.8418925, dtype=float32),\n  array(0.94759494, dtype=float32),\n  array(0.8481622, dtype=float32),\n  array(0.4764418, dtype=float32),\n  array(0.95969075, dtype=float32),\n  array(0.6362851, dtype=float32),\n  array(0.95543486, dtype=float32),\n  array(0.8437125, dtype=float32),\n  array(0.9712105, dtype=float32),\n  array(0.97827965, dtype=float32),\n  array(0.9713957, dtype=float32),\n  array(0.92211413, dtype=float32),\n  array(0.19160192, dtype=float32),\n  array(0.8575349, dtype=float32),\n  array(0.94303143, dtype=float32),\n  array(0.21323757, dtype=float32),\n  array(0.96721363, dtype=float32),\n  array(0.9525992, dtype=float32),\n  array(0.938644, dtype=float32),\n  array(0.8271518, dtype=float32),\n  array(0.9538871, dtype=float32),\n  array(0.88685024, dtype=float32),\n  array(0.9667027, dtype=float32),\n  array(0.9665813, dtype=float32)],\n [array(0.09623662, dtype=float32),\n  array(0.95308036, dtype=float32),\n  array(0.48702335, dtype=float32),\n  array(0.48671687, dtype=float32),\n  array(0.67332983, dtype=float32),\n  array(0.8708263, dtype=float32),\n  array(0.8904298, dtype=float32),\n  array(0.945886, dtype=float32),\n  array(0.8875286, dtype=float32),\n  array(0.95327854, dtype=float32),\n  array(0.24447845, dtype=float32),\n  array(0.96306235, dtype=float32),\n  array(0.2557361, dtype=float32),\n  array(0.9219825, dtype=float32),\n  array(0.9328886, dtype=float32),\n  array(0.95325017, dtype=float32),\n  array(0.9363985, dtype=float32),\n  array(0.65980834, dtype=float32),\n  array(0.56709546, dtype=float32),\n  array(0.30160445, dtype=float32),\n  array(0.8659314, dtype=float32),\n  array(0.84036547, dtype=float32),\n  array(0.9549794, dtype=float32),\n  array(0.98139036, dtype=float32),\n  array(0.8069245, dtype=float32),\n  array(0.8674977, dtype=float32),\n  array(0.29605296, dtype=float32),\n  array(0.7042948, dtype=float32),\n  array(0.97546965, dtype=float32),\n  array(0.35979348, dtype=float32),\n  array(0.89718723, dtype=float32),\n  array(0.9158942, dtype=float32),\n  array(0.8316659, dtype=float32),\n  array(0.9726993, dtype=float32),\n  array(0.9566312, dtype=float32),\n  array(0.774223, dtype=float32),\n  array(0.90145534, dtype=float32),\n  array(0.9391912, dtype=float32),\n  array(0.93453246, dtype=float32),\n  array(0.9826439, dtype=float32),\n  array(0.757381, dtype=float32),\n  array(0.9170817, dtype=float32)],\n [array(0.41978082, dtype=float32),\n  array(0.7233235, dtype=float32),\n  array(0.67073286, dtype=float32),\n  array(0.4130823, dtype=float32),\n  array(0.7509047, dtype=float32),\n  array(0.916897, dtype=float32),\n  array(0.9560139, dtype=float32),\n  array(0.89218587, dtype=float32),\n  array(0.9587994, dtype=float32),\n  array(0.08403962, dtype=float32),\n  array(0.62348676, dtype=float32),\n  array(0.889559, dtype=float32),\n  array(0.51229244, dtype=float32),\n  array(0.38374656, dtype=float32),\n  array(0.5950938, dtype=float32),\n  array(0.6343935, dtype=float32),\n  array(0.23585573, dtype=float32),\n  array(0.43834773, dtype=float32),\n  array(0.87907857, dtype=float32),\n  array(0.175069, dtype=float32),\n  array(0.7712148, dtype=float32),\n  array(0.951938, dtype=float32),\n  array(0.9486299, dtype=float32),\n  array(0.909266, dtype=float32),\n  array(0.5916412, dtype=float32),\n  array(0.9162541, dtype=float32),\n  array(0.60498893, dtype=float32),\n  array(0.82935107, dtype=float32),\n  array(0.67475694, dtype=float32),\n  array(0.3686141, dtype=float32),\n  array(0.9840019, dtype=float32),\n  array(0.9522651, dtype=float32),\n  array(0.9328783, dtype=float32),\n  array(0.84149706, dtype=float32),\n  array(0.92301685, dtype=float32),\n  array(0.909988, dtype=float32),\n  array(0.9064007, dtype=float32),\n  array(0.97248536, dtype=float32),\n  array(0.9479231, dtype=float32),\n  array(0.9962424, dtype=float32),\n  array(0.84516984, dtype=float32),\n  array(0.89085096, dtype=float32),\n  array(0.94738233, dtype=float32),\n  array(0.95316416, dtype=float32),\n  array(0.53418297, dtype=float32),\n  array(0.97683245, dtype=float32)],\n [array(0.8885106, dtype=float32),\n  array(0.9691037, dtype=float32),\n  array(0.7875571, dtype=float32),\n  array(0.96027446, dtype=float32),\n  array(0.89169204, dtype=float32),\n  array(0.9230519, dtype=float32),\n  array(0.96472013, dtype=float32),\n  array(0.9613784, dtype=float32),\n  array(0.939227, dtype=float32),\n  array(0.9885238, dtype=float32),\n  array(0.93291867, dtype=float32),\n  array(0.9919884, dtype=float32),\n  array(0.9525347, dtype=float32),\n  array(0.98271376, dtype=float32),\n  array(0.9882234, dtype=float32),\n  array(0.9391626, dtype=float32),\n  array(0.8132796, dtype=float32),\n  array(0.9303477, dtype=float32),\n  array(0.8604218, dtype=float32),\n  array(0.6888516, dtype=float32),\n  array(0.9023187, dtype=float32),\n  array(0.7766875, dtype=float32),\n  array(0.9101051, dtype=float32),\n  array(0.7527074, dtype=float32),\n  array(0.97507393, dtype=float32),\n  array(0.9391977, dtype=float32),\n  array(0.22523816, dtype=float32),\n  array(0.8699261, dtype=float32),\n  array(0.988931, dtype=float32),\n  array(0.09084375, dtype=float32),\n  array(0.9394768, dtype=float32),\n  array(0.9389148, dtype=float32),\n  array(0.9811397, dtype=float32),\n  array(0.9876199, dtype=float32),\n  array(0.9762566, dtype=float32),\n  array(0.94351715, dtype=float32),\n  array(0.946702, dtype=float32),\n  array(0.96247095, dtype=float32),\n  array(0.9442257, dtype=float32),\n  array(0.98832315, dtype=float32),\n  array(0.89148533, dtype=float32),\n  array(0.93665844, dtype=float32),\n  array(0.9870133, dtype=float32),\n  array(0.9334515, dtype=float32),\n  array(0.91815615, dtype=float32),\n  array(0.9924149, dtype=float32),\n  array(0.93905276, dtype=float32),\n  array(0.96336424, dtype=float32),\n  array(0.96824795, dtype=float32),\n  array(0.96965426, dtype=float32)],\n [array(0.13450456, dtype=float32),\n  array(0.9656016, dtype=float32),\n  array(0.3895087, dtype=float32),\n  array(0.9437609, dtype=float32),\n  array(0.7591813, dtype=float32),\n  array(0.91792375, dtype=float32),\n  array(0.95839643, dtype=float32),\n  array(0.9462177, dtype=float32),\n  array(0.90055966, dtype=float32),\n  array(0.964539, dtype=float32),\n  array(0.9559242, dtype=float32),\n  array(0.9535174, dtype=float32),\n  array(0.9533272, dtype=float32),\n  array(0.98761255, dtype=float32),\n  array(0.95328295, dtype=float32),\n  array(0.91525114, dtype=float32),\n  array(0.9160346, dtype=float32),\n  array(0.9020775, dtype=float32),\n  array(0.9509288, dtype=float32),\n  array(0.7124858, dtype=float32),\n  array(0.9350576, dtype=float32),\n  array(0.8947184, dtype=float32),\n  array(0.8821795, dtype=float32),\n  array(0.9628937, dtype=float32),\n  array(0.9375845, dtype=float32),\n  array(0.9091956, dtype=float32),\n  array(0.53966904, dtype=float32),\n  array(0.89277494, dtype=float32),\n  array(0.9578256, dtype=float32),\n  array(0.77511805, dtype=float32),\n  array(0.9186224, dtype=float32),\n  array(0.95277333, dtype=float32),\n  array(0.9477894, dtype=float32),\n  array(0.79543287, dtype=float32),\n  array(0.9539255, dtype=float32),\n  array(0.64437526, dtype=float32),\n  array(0.85767424, dtype=float32),\n  array(0.9101226, dtype=float32),\n  array(0.8898761, dtype=float32),\n  array(0.981545, dtype=float32),\n  array(0.84418464, dtype=float32),\n  array(0.88870496, dtype=float32),\n  array(0.97798127, dtype=float32),\n  array(0.6005134, dtype=float32),\n  array(0.9381369, dtype=float32),\n  array(0.85606843, dtype=float32),\n  array(0.9674037, dtype=float32),\n  array(0.9602351, dtype=float32),\n  array(0.94255567, dtype=float32),\n  array(0.9509661, dtype=float32),\n  array(0.77667016, dtype=float32),\n  array(0.984554, dtype=float32),\n  array(0.3622729, dtype=float32),\n  array(0.6972603, dtype=float32)],\n [array(0.13023944, dtype=float32),\n  array(0.9633834, dtype=float32),\n  array(0.7343536, dtype=float32),\n  array(0.80985105, dtype=float32),\n  array(0.7305293, dtype=float32),\n  array(0.96603584, dtype=float32),\n  array(0.9357754, dtype=float32),\n  array(0.9391092, dtype=float32),\n  array(0.95458764, dtype=float32),\n  array(0.92001677, dtype=float32),\n  array(0.97611666, dtype=float32),\n  array(0.977815, dtype=float32),\n  array(0.3588581, dtype=float32),\n  array(0.7533314, dtype=float32),\n  array(0.5467878, dtype=float32),\n  array(0.9475854, dtype=float32),\n  array(0.79630846, dtype=float32),\n  array(0.5367256, dtype=float32),\n  array(0.79353255, dtype=float32),\n  array(0.3320024, dtype=float32),\n  array(0.92348385, dtype=float32),\n  array(0.83114, dtype=float32),\n  array(0.96634877, dtype=float32),\n  array(0.9817442, dtype=float32),\n  array(0.8441258, dtype=float32),\n  array(0.90791434, dtype=float32),\n  array(0.7658917, dtype=float32),\n  array(0.8005804, dtype=float32),\n  array(0.9536016, dtype=float32),\n  array(0.27200922, dtype=float32),\n  array(0.9473008, dtype=float32),\n  array(0.95896447, dtype=float32),\n  array(0.95143044, dtype=float32),\n  array(0.77311987, dtype=float32),\n  array(0.88218766, dtype=float32),\n  array(0.8828851, dtype=float32),\n  array(0.73962855, dtype=float32),\n  array(0.97111535, dtype=float32),\n  array(0.65195364, dtype=float32),\n  array(0.977679, dtype=float32),\n  array(0.70383835, dtype=float32),\n  array(0.92534715, dtype=float32),\n  array(0.94802237, dtype=float32),\n  array(0.5217758, dtype=float32),\n  array(0.6149481, dtype=float32),\n  array(0.99273723, dtype=float32),\n  array(0.8718101, dtype=float32),\n  array(0.9447682, dtype=float32),\n  array(0.938218, dtype=float32),\n  array(0.96554935, dtype=float32),\n  array(0.945341, dtype=float32),\n  array(0.8333016, dtype=float32),\n  array(0.24104536, dtype=float32),\n  array(0.90357006, dtype=float32),\n  array(0.8317151, dtype=float32),\n  array(0.20003502, dtype=float32),\n  array(0.95373005, dtype=float32),\n  array(0.9735676, dtype=float32)],\n [array(0.8535141, dtype=float32),\n  array(0.7831491, dtype=float32),\n  array(0.8216142, dtype=float32),\n  array(0.478297, dtype=float32),\n  array(0.7986587, dtype=float32),\n  array(0.93704766, dtype=float32),\n  array(0.9646863, dtype=float32),\n  array(0.89443403, dtype=float32),\n  array(0.93451715, dtype=float32),\n  array(0.83780426, dtype=float32),\n  array(0.9513689, dtype=float32),\n  array(0.9786098, dtype=float32),\n  array(0.9682548, dtype=float32),\n  array(0.976101, dtype=float32),\n  array(0.62851083, dtype=float32),\n  array(0.9668269, dtype=float32),\n  array(0.9893182, dtype=float32),\n  array(0.96952593, dtype=float32),\n  array(0.98577684, dtype=float32),\n  array(0.9580999, dtype=float32),\n  array(0.9171842, dtype=float32),\n  array(0.91285115, dtype=float32),\n  array(0.98631334, dtype=float32),\n  array(0.98826796, dtype=float32),\n  array(0.8214666, dtype=float32),\n  array(0.9083321, dtype=float32),\n  array(0.25357392, dtype=float32),\n  array(0.6159157, dtype=float32),\n  array(0.9746592, dtype=float32),\n  array(0.14197288, dtype=float32),\n  array(0.95046574, dtype=float32),\n  array(0.9346605, dtype=float32),\n  array(0.96434236, dtype=float32),\n  array(0.98567957, dtype=float32),\n  array(0.99072766, dtype=float32),\n  array(0.9674772, dtype=float32),\n  array(0.95805764, dtype=float32),\n  array(0.9787891, dtype=float32),\n  array(0.5241187, dtype=float32),\n  array(0.98847497, dtype=float32),\n  array(0.8617086, dtype=float32),\n  array(0.6680022, dtype=float32),\n  array(0.968511, dtype=float32),\n  array(0.34120378, dtype=float32),\n  array(0.6443011, dtype=float32),\n  array(0.98613966, dtype=float32),\n  array(0.9305077, dtype=float32),\n  array(0.98756903, dtype=float32),\n  array(0.9655568, dtype=float32),\n  array(0.93808687, dtype=float32),\n  array(0.93977445, dtype=float32),\n  array(0.46302822, dtype=float32),\n  array(0.6617694, dtype=float32),\n  array(0.8461587, dtype=float32),\n  array(0.78411967, dtype=float32),\n  array(0.9126853, dtype=float32),\n  array(0.83353376, dtype=float32),\n  array(0.9392427, dtype=float32),\n  array(0.81892824, dtype=float32),\n  array(0.7837491, dtype=float32),\n  array(0.9464858, dtype=float32),\n  array(0.9290763, dtype=float32)]]"
     },
     "execution_count": 8,
     "metadata": {},
     "output_type": "execute_result"
    }
   ],
   "source": [
    "output[\"probs\"]"
   ],
   "metadata": {
    "collapsed": false,
    "ExecuteTime": {
     "end_time": "2024-04-06T20:56:46.195273700Z",
     "start_time": "2024-04-06T20:56:46.183759Z"
    }
   },
   "id": "f99ad84434c57aa6",
   "execution_count": 8
  },
  {
   "cell_type": "code",
   "outputs": [],
   "source": [
    "ans = []\n",
    "for prob_array in output[\"probs\"]:\n",
    "    cur_ans = [float(x) for x in prob_array]\n",
    "    ans.append(cur_ans)"
   ],
   "metadata": {
    "collapsed": false,
    "ExecuteTime": {
     "end_time": "2024-04-06T20:56:46.840510Z",
     "start_time": "2024-04-06T20:56:46.825003Z"
    }
   },
   "id": "3bb955e81e867633",
   "execution_count": 9
  },
  {
   "cell_type": "code",
   "outputs": [
    {
     "data": {
      "text/plain": "[[0.07589086145162582, 0.996455729007721],\n [0.08404802531003952,\n  0.9538117051124573,\n  0.9398152828216553,\n  0.9516146779060364,\n  0.9814642071723938,\n  0.9769743084907532],\n [0.16387106478214264,\n  0.9467562437057495,\n  0.676182746887207,\n  0.5646349191665649,\n  0.984295129776001,\n  0.6997942924499512,\n  0.9909428954124451,\n  0.08116137981414795,\n  0.09859001636505127,\n  0.680999219417572],\n [0.7210496664047241,\n  0.8776469826698303,\n  0.9380748867988586,\n  0.9270859956741333,\n  0.9632026553153992,\n  0.9859241843223572,\n  0.990043044090271,\n  0.10618024319410324,\n  0.06846670806407928,\n  0.7030561566352844,\n  0.8688160181045532,\n  0.7111480236053467,\n  0.7220498919487,\n  0.8505417108535767],\n [0.05357353761792183,\n  0.9913641214370728,\n  0.8781933188438416,\n  0.9803565144538879,\n  0.9952436089515686,\n  0.9033644795417786,\n  0.9851232171058655,\n  0.8652047514915466,\n  0.6971597075462341,\n  0.895591139793396,\n  0.9548839926719666,\n  0.9138321280479431,\n  0.9789782166481018,\n  0.9196937084197998,\n  0.9612160921096802,\n  0.9207049608230591,\n  0.8178552389144897,\n  0.9142460823059082],\n [0.43376830220222473,\n  0.4504658281803131,\n  0.7157204747200012,\n  0.3764154613018036,\n  0.7422593832015991,\n  0.6240913271903992,\n  0.9641768932342529,\n  0.5819206833839417,\n  0.21742896735668182,\n  0.9834655523300171,\n  0.8363158106803894,\n  0.8095195889472961,\n  0.923750102519989,\n  0.7251858115196228,\n  0.8759667277336121,\n  0.8329185843467712,\n  0.7465853691101074,\n  0.9248718619346619,\n  0.8490163683891296,\n  0.3020206093788147,\n  0.90889972448349,\n  0.9207161664962769],\n [0.0876794382929802,\n  0.23358605802059174,\n  0.6114509701728821,\n  0.6784435510635376,\n  0.849393904209137,\n  0.9791021943092346,\n  0.9298650026321411,\n  0.3720967769622803,\n  0.08470550179481506,\n  0.9388028383255005,\n  0.9732406139373779,\n  0.9445531964302063,\n  0.7710008025169373,\n  0.6878497004508972,\n  0.8497900366783142,\n  0.9037427306175232,\n  0.7054086327552795,\n  0.8791672587394714,\n  0.8657834529876709,\n  0.247092604637146,\n  0.8980357050895691,\n  0.5051503777503967,\n  0.8917151689529419,\n  0.6496534943580627,\n  0.8624830842018127,\n  0.9633010029792786],\n [0.07317658513784409,\n  0.2427958995103836,\n  0.6903337240219116,\n  0.7559264302253723,\n  0.8737648129463196,\n  0.980441689491272,\n  0.9449145197868347,\n  0.7076366543769836,\n  0.16700276732444763,\n  0.9748165011405945,\n  0.8621748089790344,\n  0.9489873647689819,\n  0.9225806593894958,\n  0.7152451276779175,\n  0.8928873538970947,\n  0.8237178325653076,\n  0.656950831413269,\n  0.5963308811187744,\n  0.7813006639480591,\n  0.6181218028068542,\n  0.9042074084281921,\n  0.7190119028091431,\n  0.8494279384613037,\n  0.802017092704773,\n  0.7935852408409119,\n  0.954243540763855,\n  0.36565810441970825,\n  0.9174476265907288,\n  0.9603951573371887,\n  0.558445394039154],\n [0.8087009191513062,\n  0.5097189545631409,\n  0.8106850981712341,\n  0.6610248684883118,\n  0.7967675924301147,\n  0.5783513188362122,\n  0.9485522508621216,\n  0.8970187306404114,\n  0.8637838959693909,\n  0.9214287400245667,\n  0.7684352397918701,\n  0.973115086555481,\n  0.7300036549568176,\n  0.6909778714179993,\n  0.8265538811683655,\n  0.711209237575531,\n  0.486948698759079,\n  0.584926962852478,\n  0.6074507236480713,\n  0.29864728450775146,\n  0.913253128528595,\n  0.884451150894165,\n  0.9520143866539001,\n  0.9676876068115234,\n  0.859277606010437,\n  0.9318119287490845,\n  0.1971239447593689,\n  0.7278324365615845,\n  0.9602979421615601,\n  0.13109399378299713,\n  0.953164279460907,\n  0.9537078142166138,\n  0.19145306944847107,\n  0.20225085318088531],\n [0.36371371150016785,\n  0.9096143245697021,\n  0.801744282245636,\n  0.908512532711029,\n  0.9351358413696289,\n  0.979459822177887,\n  0.9292704463005066,\n  0.9687203764915466,\n  0.9660155773162842,\n  0.9555593729019165,\n  0.9056342244148254,\n  0.9647720456123352,\n  0.9335860013961792,\n  0.9794880747795105,\n  0.8418924808502197,\n  0.947594940662384,\n  0.8481621742248535,\n  0.47644180059432983,\n  0.9596907496452332,\n  0.636285126209259,\n  0.9554348587989807,\n  0.8437125086784363,\n  0.9712104797363281,\n  0.9782796502113342,\n  0.9713956713676453,\n  0.9221141338348389,\n  0.1916019171476364,\n  0.8575348854064941,\n  0.9430314302444458,\n  0.21323756873607635,\n  0.9672136306762695,\n  0.9525992274284363,\n  0.9386439919471741,\n  0.8271517753601074,\n  0.9538871049880981,\n  0.8868502378463745,\n  0.9667026996612549,\n  0.9665812849998474],\n [0.09623662382364273,\n  0.9530803561210632,\n  0.48702335357666016,\n  0.4867168664932251,\n  0.6733298301696777,\n  0.8708263039588928,\n  0.8904297947883606,\n  0.9458860158920288,\n  0.8875285983085632,\n  0.9532785415649414,\n  0.24447844922542572,\n  0.9630623459815979,\n  0.2557361125946045,\n  0.9219825267791748,\n  0.9328886270523071,\n  0.9532501697540283,\n  0.9363985061645508,\n  0.659808337688446,\n  0.5670954585075378,\n  0.3016044497489929,\n  0.8659313917160034,\n  0.840365469455719,\n  0.954979419708252,\n  0.9813903570175171,\n  0.8069245219230652,\n  0.8674976825714111,\n  0.2960529625415802,\n  0.7042948007583618,\n  0.9754696488380432,\n  0.359793484210968,\n  0.8971872329711914,\n  0.9158942103385925,\n  0.8316658735275269,\n  0.9726992845535278,\n  0.9566311836242676,\n  0.7742230296134949,\n  0.9014553427696228,\n  0.9391912221908569,\n  0.9345324635505676,\n  0.9826439023017883,\n  0.757381021976471,\n  0.9170817136764526],\n [0.41978082060813904,\n  0.7233235239982605,\n  0.670732855796814,\n  0.4130823016166687,\n  0.7509046792984009,\n  0.9168969988822937,\n  0.9560139179229736,\n  0.8921858668327332,\n  0.958799421787262,\n  0.08403962105512619,\n  0.6234867572784424,\n  0.8895589709281921,\n  0.5122924447059631,\n  0.38374656438827515,\n  0.5950937867164612,\n  0.6343935132026672,\n  0.23585572838783264,\n  0.438347727060318,\n  0.8790785670280457,\n  0.17506900429725647,\n  0.7712147831916809,\n  0.9519379734992981,\n  0.9486299157142639,\n  0.9092659950256348,\n  0.5916411876678467,\n  0.9162541031837463,\n  0.6049889326095581,\n  0.8293510675430298,\n  0.6747569441795349,\n  0.3686141073703766,\n  0.984001874923706,\n  0.9522650837898254,\n  0.932878315448761,\n  0.8414970636367798,\n  0.9230168461799622,\n  0.9099879860877991,\n  0.9064006805419922,\n  0.972485363483429,\n  0.9479231238365173,\n  0.9962424039840698,\n  0.8451698422431946,\n  0.8908509612083435,\n  0.9473823308944702,\n  0.9531641602516174,\n  0.5341829657554626,\n  0.9768324494361877],\n [0.8885105848312378,\n  0.9691036939620972,\n  0.7875571250915527,\n  0.9602744579315186,\n  0.891692042350769,\n  0.9230518937110901,\n  0.9647201299667358,\n  0.9613783955574036,\n  0.9392269849777222,\n  0.9885237812995911,\n  0.9329186677932739,\n  0.9919884204864502,\n  0.9525346755981445,\n  0.9827137589454651,\n  0.9882233738899231,\n  0.9391626119613647,\n  0.8132796287536621,\n  0.9303476810455322,\n  0.8604217767715454,\n  0.6888515949249268,\n  0.9023187160491943,\n  0.776687502861023,\n  0.9101051092147827,\n  0.7527074217796326,\n  0.9750739336013794,\n  0.9391977190971375,\n  0.2252381592988968,\n  0.8699260950088501,\n  0.9889310002326965,\n  0.09084375202655792,\n  0.9394767880439758,\n  0.9389147758483887,\n  0.9811397194862366,\n  0.9876198768615723,\n  0.9762566089630127,\n  0.9435171484947205,\n  0.9467020034790039,\n  0.9624709486961365,\n  0.9442257285118103,\n  0.9883231520652771,\n  0.891485333442688,\n  0.9366584420204163,\n  0.9870132803916931,\n  0.9334514737129211,\n  0.9181561470031738,\n  0.9924148917198181,\n  0.9390527606010437,\n  0.9633642435073853,\n  0.9682479500770569,\n  0.9696542620658875],\n [0.1345045566558838,\n  0.9656016230583191,\n  0.3895086944103241,\n  0.943760871887207,\n  0.7591813206672668,\n  0.9179237484931946,\n  0.9583964347839355,\n  0.9462177157402039,\n  0.900559663772583,\n  0.9645389914512634,\n  0.9559242129325867,\n  0.9535173773765564,\n  0.9533271789550781,\n  0.9876125454902649,\n  0.9532829523086548,\n  0.9152511358261108,\n  0.9160345792770386,\n  0.9020774960517883,\n  0.950928807258606,\n  0.7124857902526855,\n  0.9350575804710388,\n  0.8947184085845947,\n  0.8821794986724854,\n  0.9628937244415283,\n  0.9375845193862915,\n  0.909195601940155,\n  0.5396690368652344,\n  0.8927749395370483,\n  0.9578256011009216,\n  0.7751180529594421,\n  0.9186223745346069,\n  0.9527733325958252,\n  0.9477893710136414,\n  0.7954328656196594,\n  0.9539254903793335,\n  0.6443752646446228,\n  0.857674241065979,\n  0.9101225733757019,\n  0.889876127243042,\n  0.9815449714660645,\n  0.8441846370697021,\n  0.8887049555778503,\n  0.9779812693595886,\n  0.6005133986473083,\n  0.938136875629425,\n  0.8560684323310852,\n  0.9674037098884583,\n  0.9602351188659668,\n  0.9425556659698486,\n  0.9509661197662354,\n  0.7766701579093933,\n  0.9845539927482605,\n  0.36227288842201233,\n  0.697260320186615],\n [0.13023944199085236,\n  0.9633833765983582,\n  0.7343536019325256,\n  0.8098510503768921,\n  0.7305293083190918,\n  0.9660358428955078,\n  0.9357753992080688,\n  0.939109206199646,\n  0.9545876383781433,\n  0.9200167655944824,\n  0.9761166572570801,\n  0.9778149724006653,\n  0.3588581085205078,\n  0.7533314228057861,\n  0.5467877984046936,\n  0.94758540391922,\n  0.7963084578514099,\n  0.5367255806922913,\n  0.7935325503349304,\n  0.3320024013519287,\n  0.9234838485717773,\n  0.8311399817466736,\n  0.9663487672805786,\n  0.9817442297935486,\n  0.8441258072853088,\n  0.9079143404960632,\n  0.7658916711807251,\n  0.8005803823471069,\n  0.953601598739624,\n  0.2720092236995697,\n  0.9473007917404175,\n  0.958964467048645,\n  0.9514304399490356,\n  0.7731198668479919,\n  0.8821876645088196,\n  0.8828850984573364,\n  0.7396285533905029,\n  0.9711153507232666,\n  0.6519536375999451,\n  0.9776790142059326,\n  0.7038383483886719,\n  0.9253471493721008,\n  0.9480223655700684,\n  0.5217757821083069,\n  0.6149480938911438,\n  0.9927372336387634,\n  0.8718100786209106,\n  0.9447681903839111,\n  0.9382179975509644,\n  0.9655493497848511,\n  0.9453409910202026,\n  0.8333016037940979,\n  0.24104535579681396,\n  0.9035700559616089,\n  0.8317151069641113,\n  0.20003502070903778,\n  0.953730046749115,\n  0.9735676050186157],\n [0.8535140752792358,\n  0.7831491231918335,\n  0.8216142058372498,\n  0.47829699516296387,\n  0.7986587285995483,\n  0.9370476603507996,\n  0.9646862745285034,\n  0.8944340348243713,\n  0.9345171451568604,\n  0.8378042578697205,\n  0.9513689279556274,\n  0.9786098003387451,\n  0.968254804611206,\n  0.9761009812355042,\n  0.6285108327865601,\n  0.9668269157409668,\n  0.9893181920051575,\n  0.969525933265686,\n  0.9857768416404724,\n  0.958099901676178,\n  0.9171841740608215,\n  0.9128511548042297,\n  0.9863133430480957,\n  0.9882679581642151,\n  0.8214666247367859,\n  0.908332109451294,\n  0.2535739243030548,\n  0.6159157156944275,\n  0.9746592044830322,\n  0.1419728845357895,\n  0.950465738773346,\n  0.9346604943275452,\n  0.9643423557281494,\n  0.985679566860199,\n  0.9907276630401611,\n  0.9674772024154663,\n  0.9580576419830322,\n  0.9787890911102295,\n  0.5241187214851379,\n  0.98847496509552,\n  0.8617085814476013,\n  0.668002188205719,\n  0.9685109853744507,\n  0.3412037789821625,\n  0.6443011164665222,\n  0.9861396551132202,\n  0.9305077195167542,\n  0.9875690340995789,\n  0.965556800365448,\n  0.9380868673324585,\n  0.9397744536399841,\n  0.463028222322464,\n  0.6617693901062012,\n  0.8461586833000183,\n  0.7841196656227112,\n  0.9126852750778198,\n  0.833533763885498,\n  0.9392427206039429,\n  0.8189282417297363,\n  0.7837491035461426,\n  0.9464858174324036,\n  0.9290763139724731]]"
     },
     "execution_count": 10,
     "metadata": {},
     "output_type": "execute_result"
    }
   ],
   "source": [
    "ans"
   ],
   "metadata": {
    "collapsed": false,
    "ExecuteTime": {
     "end_time": "2024-04-06T20:56:48.737610400Z",
     "start_time": "2024-04-06T20:56:48.705410500Z"
    }
   },
   "id": "34a64270107e4bb0",
   "execution_count": 10
  },
  {
   "cell_type": "code",
   "outputs": [],
   "source": [
    "output[\"probs\"] = ans"
   ],
   "metadata": {
    "collapsed": false,
    "ExecuteTime": {
     "end_time": "2024-04-06T20:56:49.390746300Z",
     "start_time": "2024-04-06T20:56:49.385747Z"
    }
   },
   "id": "33a6c50d5a4e7089",
   "execution_count": 11
  },
  {
   "cell_type": "code",
   "outputs": [],
   "source": [
    "with open(\"./result.json\", \"w\") as f:\n",
    "    json.dump(output, f)"
   ],
   "metadata": {
    "collapsed": false,
    "ExecuteTime": {
     "end_time": "2024-04-06T20:56:50.281607900Z",
     "start_time": "2024-04-06T20:56:50.262539700Z"
    }
   },
   "id": "f1bd6a2cf4918284",
   "execution_count": 12
  },
  {
   "cell_type": "code",
   "outputs": [],
   "source": [],
   "metadata": {
    "collapsed": false
   },
   "id": "8c7ea504191d7e40"
  }
 ],
 "metadata": {
  "kernelspec": {
   "display_name": "Python 3",
   "language": "python",
   "name": "python3"
  },
  "language_info": {
   "codemirror_mode": {
    "name": "ipython",
    "version": 2
   },
   "file_extension": ".py",
   "mimetype": "text/x-python",
   "name": "python",
   "nbconvert_exporter": "python",
   "pygments_lexer": "ipython2",
   "version": "2.7.6"
  }
 },
 "nbformat": 4,
 "nbformat_minor": 5
}
